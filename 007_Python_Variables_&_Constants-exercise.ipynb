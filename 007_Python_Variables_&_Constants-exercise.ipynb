{
 "cells": [
  {
   "cell_type": "markdown",
   "id": "55bca3e2",
   "metadata": {},
   "source": [
    "## 💻 Exercises ➞ <span class='label label-default'>Variables</span>\n",
    "\n",
    "### Exercises ➞ <span class='label label-default'>Level 1</span>\n",
    "\n",
    "1. Write a python comment saying **`Python variables and Constants`**\n",
    "2. Declare a **`first_name`** variable and assign a value to it\n",
    "3. Declare a **`last_name`** variable and assign a value to it\n",
    "4. Declare a **`full_name`** variable and assign a value to it\n",
    "5. Declare a variable **`is_light_on`** and assign a value to it\n",
    "6. Declare multiple variable on one line\n",
    "\n",
    "### Exercises ➞ <span class='label label-default'>Level 2</span>\n",
    "\n",
    "1. Check the data type of all your variables using **`type()`** built-in function\n",
    "2. Using the **`len()`** built-in function, find the length of your first name\n",
    "3. Compare the length of your **`first_name`** and your **`last_name`**\n",
    "4. Declare **6** as **`num_1`** and **4** as **`num_2`**\n",
    "    1. Add **`num_1`** and **`num_2`** and assign the value to a variable **`total`**\n",
    "    2. Subtract **`num_2`** from **`num_1`** and assign the value to a variable **`difference`**\n",
    "    3. Multiply **`num_2`** and **`num_1`** and assign the value to a variable **`product`**\n",
    "    4. Divide **`num_1`** by **`num_2`** and assign the value to a variable **`division`**\n",
    "    5. Use modulus division to find **`num_2`** divided by **`num_1`** and assign the value to a variable **`remainder`**\n",
    "    6. Calculate **`num_1`** to the power of **`num_2`** and assign the value to a variable **`exp`**\n",
    "    7. Find floor division of **`num_1`** by **`num_2`** and assign the value to a variable **`floor_division`**\n",
    "    \n",
    "5. The radius of a circle is **30 meters**.\n",
    "    1. Calculate the area of a circle and assign the value to a variable name of **`area_of_circle`** by taking user **`input()`**\n",
    "    2. Calculate the circumference of a circle and assign the value to a variable name of **`circum_of_circle`** by taking user **`input()`**\n",
    "    3. Take radius as user **`input()`** and calculate the area.\n",
    "    \n",
    "6. Use the built-in **`input()`** function to get first name, last name, country and age from a user and store the value to their corresponding variable names\n",
    "7. Run help (**`keywords`**) in Python shell or in your file to check for the Python reserved words or keywords"
   ]
  },
  {
   "cell_type": "code",
   "execution_count": null,
   "id": "e07c3f02",
   "metadata": {},
   "outputs": [],
   "source": [
    "\"\"\"Variable:A variable is a named location used to store data in the memory. Variable also known as identifier and used to hold value. \n",
    "It is helpful to think of variables as a container that holds data that can be changed later in the program. Mnemonic variables are recommended to use in many programming languages.\n",
    "A mnemonic variable is a variable name that can be easily remembered and associated.\n",
    "A variable refers to a memory address in which data is stored.\"\"\"\n",
    "\"\"\"constant:A constant is a type of variable whose value cannot be changed. It is helpful to think of constants as containers that hold information which cannot be changed later.\n",
    "In Python, constants are usually declared and assigned in a module. Here, the module is a new file containing variables, functions, etc which is imported to the main file. Inside the module, constants are written in all capital letters and underscores separating the words.\"\"\""
   ]
  },
  {
   "cell_type": "code",
   "execution_count": 9,
   "id": "8ebb1c2b",
   "metadata": {},
   "outputs": [
    {
     "name": "stdout",
     "output_type": "stream",
     "text": [
      "first name is: LeBron\n",
      "last name is: James\n",
      "full name is: LeBron James\n",
      "is light on?: True\n",
      "LeBron James 33\n"
     ]
    }
   ],
   "source": [
    "first_name=\"LeBron\"\n",
    "last_name=\"James\"\n",
    "full_name=\"LeBron James\"\n",
    "is_light_on=True\n",
    "print('first name is:',first_name)\n",
    "print('last name is:',last_name)\n",
    "print('full name is:',full_name)\n",
    "print('is light on?:',is_light_on)\n",
    "first__name,last__name,age='Stephen','Curry',33\n",
    "print(first_name,last_name,age)"
   ]
  },
  {
   "cell_type": "code",
   "execution_count": 15,
   "id": "57eda5a8",
   "metadata": {},
   "outputs": [
    {
     "name": "stdout",
     "output_type": "stream",
     "text": [
      "<class 'str'> <class 'str'> <class 'str'> <class 'bool'> <class 'int'>\n"
     ]
    }
   ],
   "source": [
    "print(type(first_name),type(last_name),type(full_name),type(is_light_on),type(age))"
   ]
  },
  {
   "cell_type": "code",
   "execution_count": 16,
   "id": "0d233f7a",
   "metadata": {},
   "outputs": [
    {
     "data": {
      "text/plain": [
       "6"
      ]
     },
     "execution_count": 16,
     "metadata": {},
     "output_type": "execute_result"
    }
   ],
   "source": [
    "len(first_name)"
   ]
  },
  {
   "cell_type": "code",
   "execution_count": 18,
   "id": "600f8060",
   "metadata": {},
   "outputs": [
    {
     "name": "stdout",
     "output_type": "stream",
     "text": [
      "longer variable:first_name\n"
     ]
    }
   ],
   "source": [
    "if len(first_name)>len(last_name):\n",
    "    print('longer variable:first_name')\n",
    "else:\n",
    "    print('longer variable:last_name')"
   ]
  },
  {
   "cell_type": "code",
   "execution_count": 25,
   "id": "c510666e",
   "metadata": {},
   "outputs": [
    {
     "name": "stdout",
     "output_type": "stream",
     "text": [
      "10\n",
      "2\n",
      "24\n",
      "1.5\n",
      "2\n",
      "2\n",
      "0\n"
     ]
    }
   ],
   "source": [
    "num_1=6;num_2=4\n",
    "total=num_1+num_2\n",
    "difference=num_1-num_2\n",
    "product=num_1*num_2\n",
    "division=num_1/num_2\n",
    "remainder=num_1%num_2\n",
    "exp=num_2**num_1\n",
    "floor_division=num_2//num_1\n",
    "print(total)\n",
    "print(difference)\n",
    "print(product)\n",
    "print(division)\n",
    "print(remainder)\n",
    "print(exp)\n",
    "print(floor_division)"
   ]
  },
  {
   "cell_type": "code",
   "execution_count": 24,
   "id": "d796e4c3",
   "metadata": {},
   "outputs": [
    {
     "name": "stdout",
     "output_type": "stream",
     "text": [
      "The radius of a circle:30.63\n",
      "2945.9382659999997\n"
     ]
    }
   ],
   "source": [
    "PI=3.14\n",
    "R=float(input('The radius of a circle:'))\n",
    "s=PI*R**2\n",
    "print(s)"
   ]
  },
  {
   "cell_type": "code",
   "execution_count": 26,
   "id": "7f8c5808",
   "metadata": {},
   "outputs": [
    {
     "name": "stdout",
     "output_type": "stream",
     "text": [
      "The radius of a circle:40.6\n",
      "254.96800000000002\n"
     ]
    }
   ],
   "source": [
    "R=float(input('The radius of a circle:'))\n",
    "c=2*PI*R\n",
    "print(c)"
   ]
  },
  {
   "cell_type": "code",
   "execution_count": 35,
   "id": "50d7bd78",
   "metadata": {},
   "outputs": [
    {
     "name": "stdout",
     "output_type": "stream",
     "text": [
      "6,8,9\n",
      "6 8 9\n"
     ]
    }
   ],
   "source": [
    "x,y,z=input().split(',')\n",
    "print(x,y,z)"
   ]
  },
  {
   "cell_type": "code",
   "execution_count": 37,
   "id": "85e5de17",
   "metadata": {},
   "outputs": [
    {
     "name": "stdout",
     "output_type": "stream",
     "text": [
      "Stephen,Curry,Okaland,33\n",
      "Stephen Curry Okaland 33\n"
     ]
    }
   ],
   "source": [
    "first_name,last_name,country,age=input().split(',')\n",
    "print(first_name,last_name,country,age)"
   ]
  },
  {
   "cell_type": "code",
   "execution_count": 40,
   "id": "aad77f93",
   "metadata": {},
   "outputs": [
    {
     "name": "stdout",
     "output_type": "stream",
     "text": [
      "Help on built-in function print in module builtins:\n",
      "\n",
      "print(...)\n",
      "    print(value, ..., sep=' ', end='\\n', file=sys.stdout, flush=False)\n",
      "    \n",
      "    Prints the values to a stream, or to sys.stdout by default.\n",
      "    Optional keyword arguments:\n",
      "    file:  a file-like object (stream); defaults to the current sys.stdout.\n",
      "    sep:   string inserted between values, default a space.\n",
      "    end:   string appended after the last value, default a newline.\n",
      "    flush: whether to forcibly flush the stream.\n",
      "\n"
     ]
    }
   ],
   "source": [
    "help(print)"
   ]
  },
  {
   "cell_type": "code",
   "execution_count": null,
   "id": "7a1d2750",
   "metadata": {},
   "outputs": [],
   "source": []
  }
 ],
 "metadata": {
  "kernelspec": {
   "display_name": "Python 3 (ipykernel)",
   "language": "python",
   "name": "python3"
  },
  "language_info": {
   "codemirror_mode": {
    "name": "ipython",
    "version": 3
   },
   "file_extension": ".py",
   "mimetype": "text/x-python",
   "name": "python",
   "nbconvert_exporter": "python",
   "pygments_lexer": "ipython3",
   "version": "3.9.7"
  }
 },
 "nbformat": 4,
 "nbformat_minor": 5
}
