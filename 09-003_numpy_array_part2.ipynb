{
 "cells": [
  {
   "cell_type": "code",
   "execution_count": 2,
   "metadata": {},
   "outputs": [],
   "source": [
    "# Generate matrix:\n",
    "\n",
    "###    1  2  3  4  5\n",
    "###    6  7  8  9 10\n",
    "###   11 12 13 14 15\n",
    "###   16 17 18 19 20\n",
    "###   21 22 23 24 25\n",
    "###   26 27 28 29 30\n",
    "\n",
    "# Acces \n",
    "#        11 12\n",
    "#        16 17\n",
    "    \n",
    "# Acces  \n",
    "#         2\n",
    "#           8\n",
    "#            14\n",
    "#              20\n",
    "\n",
    "# Acces        \n",
    "#                4  5\n",
    "\n",
    "\n",
    "\n",
    "#               24 25\n",
    "#               29 30"
   ]
  },
  {
   "cell_type": "code",
   "execution_count": 3,
   "metadata": {},
   "outputs": [
    {
     "name": "stdout",
     "output_type": "stream",
     "text": [
      "[[ 1  2  3  4  5]\n",
      " [ 6  7  8  9 10]\n",
      " [11 12 13 14 15]\n",
      " [16 17 18 19 20]\n",
      " [21 22 23 24 25]\n",
      " [26 27 28 29 30]]\n",
      "[[11 12]\n",
      " [16 17]]\n",
      "[[ 2.  8. 14. 20.]]\n",
      "[[4 5]]\n",
      "[[24 25]\n",
      " [29 30]]\n"
     ]
    }
   ],
   "source": [
    "import numpy as np\n",
    "a=np.matrix(np.arange(1,31).reshape(6,5))\n",
    "print(a)\n",
    "print(a[2:4,:2])\n",
    "b=np.matrix(np.zeros(4).reshape(1,4))\n",
    "for i in range(4):\n",
    "    b[0,i]=a[i,i+1]\n",
    "print(b)\n",
    "print(a[0,3:])\n",
    "print(a[4:,3:])"
   ]
  },
  {
   "cell_type": "code",
   "execution_count": null,
   "metadata": {},
   "outputs": [],
   "source": []
  }
 ],
 "metadata": {
  "kernelspec": {
   "display_name": "Python 3",
   "language": "python",
   "name": "python3"
  },
  "language_info": {
   "codemirror_mode": {
    "name": "ipython",
    "version": 3
   },
   "file_extension": ".py",
   "mimetype": "text/x-python",
   "name": "python",
   "nbconvert_exporter": "python",
   "pygments_lexer": "ipython3",
   "version": "3.6.5"
  }
 },
 "nbformat": 4,
 "nbformat_minor": 2
}
